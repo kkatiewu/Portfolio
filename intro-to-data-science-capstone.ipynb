{
 "cells": [
  {
   "cell_type": "code",
   "execution_count": 290,
   "id": "d4517e2a-cce7-45ee-ae99-57909582cba9",
   "metadata": {},
   "outputs": [],
   "source": [
    "import numpy as np\n",
    "import pandas as pd\n",
    "import matplotlib.pyplot as plt\n",
    "from scipy import stats\n",
    "from sklearn.decomposition import PCA\n",
    "from sklearn.cluster import KMeans\n",
    "from sklearn.metrics import silhouette_samples\n",
    "from sklearn.cluster import DBSCAN\n",
    "from sklearn.linear_model import LogisticRegression\n",
    "from scipy.special import expit # this is the logistic sigmoid function\n",
    "from sklearn.ensemble import RandomForestClassifier\n",
    "from sklearn.metrics import accuracy_score\n",
    "from sklearn.metrics import confusion_matrix\n",
    "from sklearn.model_selection import cross_val_score\n",
    "import seaborn as sns\n",
    "from sklearn.ensemble import RandomForestClassifier\n",
    "from sklearn.metrics import roc_curve,auc\n",
    "from sklearn.metrics import mean_squared_error\n",
    "from sklearn.metrics import silhouette_score\n",
    "from scipy.stats import mannwhitneyu\n",
    "from scipy.stats import ttest_ind\n",
    "from sklearn.model_selection import train_test_split\n",
    "from sklearn.linear_model import LinearRegression\n",
    "from sklearn.metrics import mean_squared_error, r2_score\n",
    "\n",
    "#%% 2a) Loader\n",
    "dt = pd.read_csv('theData.csv',header=None)\n",
    "art = pd.read_csv('theArt.csv')"
   ]
  },
  {
   "cell_type": "code",
   "execution_count": 291,
   "id": "c33ca6ff-4484-4f0b-ac30-91e3dc24a7f6",
   "metadata": {},
   "outputs": [],
   "source": [
    "from scipy.stats import ttest_ind\n",
    "N_Number=11994217\n",
    "# Generate two samples\n",
    "np.random.seed(N_Number)"
   ]
  },
  {
   "cell_type": "code",
   "execution_count": 292,
   "id": "8d98da7c-515a-4b19-a33f-69c5bede4c83",
   "metadata": {},
   "outputs": [
    {
     "name": "stdout",
     "output_type": "stream",
     "text": [
      "Column '182' contains 2 NaN values.\n",
      "Column '183' contains 3 NaN values.\n",
      "Column '184' contains 4 NaN values.\n",
      "Column '185' contains 4 NaN values.\n",
      "Column '186' contains 7 NaN values.\n",
      "Column '187' contains 3 NaN values.\n",
      "Column '188' contains 2 NaN values.\n",
      "Column '189' contains 2 NaN values.\n",
      "Column '190' contains 5 NaN values.\n",
      "Column '191' contains 2 NaN values.\n",
      "Column '192' contains 4 NaN values.\n",
      "Column '193' contains 6 NaN values.\n",
      "Column '194' contains 3 NaN values.\n",
      "Column '195' contains 2 NaN values.\n",
      "Column '196' contains 3 NaN values.\n",
      "Column '197' contains 3 NaN values.\n",
      "Column '198' contains 4 NaN values.\n",
      "Column '199' contains 3 NaN values.\n",
      "Column '200' contains 5 NaN values.\n",
      "Column '201' contains 4 NaN values.\n",
      "Column '202' contains 2 NaN values.\n",
      "Column '203' contains 2 NaN values.\n",
      "Column '204' contains 5 NaN values.\n",
      "Column '205' contains 6 NaN values.\n",
      "Column '206' contains 3 NaN values.\n",
      "Column '207' contains 6 NaN values.\n",
      "Column '208' contains 4 NaN values.\n",
      "Column '209' contains 3 NaN values.\n",
      "Column '210' contains 5 NaN values.\n",
      "Column '211' contains 2 NaN values.\n",
      "Column '212' contains 4 NaN values.\n",
      "Column '213' contains 2 NaN values.\n",
      "Column '214' contains 3 NaN values.\n",
      "Column '215' contains 21 NaN values.\n",
      "Column '216' contains 20 NaN values.\n",
      "Column '217' contains 20 NaN values.\n",
      "Column '218' contains 20 NaN values.\n",
      "Column '219' contains 20 NaN values.\n",
      "Column '220' contains 20 NaN values.\n"
     ]
    }
   ],
   "source": [
    "#find numbers of na in each column of the dataset\n",
    "for column in dt.columns:\n",
    "    nan_count = dt[column].isna().sum()\n",
    "    if nan_count > 0:\n",
    "        print(f\"Column '{column}' contains {nan_count} NaN values.\")"
   ]
  },
  {
   "cell_type": "markdown",
   "id": "b15c1b4e-4542-4b74-a444-0793faa78e20",
   "metadata": {},
   "source": [
    "since the missing values are mainly after 182, i will implement relevant removal for each questions."
   ]
  },
  {
   "cell_type": "markdown",
   "id": "d4b7a49c-f5ad-4bc2-ab44-7ba4674322e5",
   "metadata": {},
   "source": [
    "## 1. Is classical art more well liked than modern art?"
   ]
  },
  {
   "cell_type": "code",
   "execution_count": 293,
   "id": "f1e8a1c4-c8b3-4624-ab36-9c490853975f",
   "metadata": {},
   "outputs": [],
   "source": [
    "#H0: classical art is similarly liked than modern art\n",
    "#H1: classical art is more liked than modern art\n",
    "\n",
    "\n",
    "#separate out the preferences dataset\n",
    "preferences= dt.iloc[:,:91]"
   ]
  },
  {
   "cell_type": "code",
   "execution_count": 294,
   "id": "39a7ff73-3ace-4232-a979-69d387cefcad",
   "metadata": {},
   "outputs": [],
   "source": [
    "#store numbers of paintings in each arrays for classic and modern arts so that I can separate out the arts based on the index\n",
    "classic_arr = np.where(art.iloc[:, 5] == 1)[0]\n",
    "modern_arr=np.where(art.iloc[:, 5] == 2)[0]"
   ]
  },
  {
   "cell_type": "code",
   "execution_count": 295,
   "id": "7342a880-1a00-4df0-bcc4-b6c914fc44e9",
   "metadata": {},
   "outputs": [
    {
     "data": {
      "text/plain": [
       "Text(0, 0.5, 'Frequency')"
      ]
     },
     "execution_count": 295,
     "metadata": {},
     "output_type": "execute_result"
    },
    {
     "data": {
      "image/png": "[encoded data removed]",
      "text/plain": [
       "<Figure size 720x360 with 2 Axes>"
      ]
     },
     "metadata": {
      "needs_background": "light"
     },
     "output_type": "display_data"
    }
   ],
   "source": [
    "classic=pd.DataFrame()\n",
    "modern=pd.DataFrame()\n",
    "\n",
    "#loop through each column\n",
    "#if name equals to items in the array\n",
    "#slice the column into the new dataset\n",
    "for i in preferences.columns:\n",
    "    if i in classic_arr:\n",
    "        classic = pd.concat([classic, preferences[i]], axis=1)\n",
    "    if i in modern_arr:\n",
    "        modern = pd.concat([modern, preferences[i]], axis=1)\n",
    "\n",
    "#transform classic and modern means to numpy arrays\n",
    "classic_mean=classic.mean().to_numpy()\n",
    "modern_mean=modern.mean().to_numpy()\n",
    "\n",
    "#see if classic and modern are normally distributed  \n",
    "fig, axs = plt.subplots(1, 2, figsize=(10, 5))\n",
    "\n",
    "# Plot the histograms on each subplot\n",
    "axs[0].hist(classic_mean, bins=20)\n",
    "axs[1].hist(modern_mean, bins=20)\n",
    "\n",
    "# Add titles and labels to each subplot\n",
    "axs[0].set_title('Classical art')\n",
    "axs[1].set_title('Modern art')\n",
    "axs[0].set_xlabel('Preference ratings means')\n",
    "axs[1].set_xlabel('Preference ratings means')\n",
    "axs[0].set_ylabel('Frequency')\n",
    "axs[1].set_ylabel('Frequency')"
   ]
  },
  {
   "cell_type": "code",
   "execution_count": 296,
   "id": "119bc2d0-6dbd-474d-8c58-ef3814558c72",
   "metadata": {},
   "outputs": [
    {
     "name": "stdout",
     "output_type": "stream",
     "text": [
      "The U statistics is 894.0 The p-value is 0.0009643070574500392\n",
      "Classic art has significantly higher preference ratings than modern arts.\n"
     ]
    }
   ],
   "source": [
    "#since the distribution is not normal, I will be using the Mann Whitman u test to test the significance\n",
    "\n",
    "stat, pv = mannwhitneyu(classic_mean, modern_mean)\n",
    "print(\"The U statistics is\", stat,\"The p-value is\",pv)\n",
    "\n",
    "# Interpret the results\n",
    "if pv < 0.05:\n",
    "    if classic_mean.mean() > modern_mean.mean():\n",
    "        print(\"Classic art has significantly higher preference ratings than modern arts.\")\n",
    "    if modern_mean.mean() > classic_mean.mean():\n",
    "        print(\"Modern art has significantly higher preference ratings than classic art.\")\n",
    "else:\n",
    "    print(\"There is no significant difference between the preference ratings among modern and non-human art\")"
   ]
  },
  {
   "cell_type": "markdown",
   "id": "a7d048a6-018d-4c23-adaf-f19e9bb995d6",
   "metadata": {},
   "source": [
    "## 2. Is there a difference in the preference ratings for modern art vs. non-human (animals and computers) generated art? "
   ]
  },
  {
   "cell_type": "code",
   "execution_count": 297,
   "id": "7a5362c2-ceb8-444f-b476-5c820e0eec00",
   "metadata": {},
   "outputs": [
    {
     "data": {
      "text/plain": [
       "Text(0.5, 1.0, 'Non-human generated arts')"
      ]
     },
     "execution_count": 297,
     "metadata": {},
     "output_type": "execute_result"
    },
    {
     "data": {
      "image/png": "[encoded data removed]",
      "text/plain": [
       "<Figure size 432x288 with 1 Axes>"
      ]
     },
     "metadata": {
      "needs_background": "light"
     },
     "output_type": "display_data"
    }
   ],
   "source": [
    "#H0: There is no difference in the preference ratings for modern art vs. non-human (animals and computers) generated art\n",
    "#H1: There is a difference in the preference ratings for modern art vs. non-human (animals and computers) generated art\n",
    "\n",
    "#create an array that contains the index to loop through\n",
    "non_human_arr=np.where(art.iloc[:, 5] == 3)[0]\n",
    "\n",
    "#separate \n",
    "non_human=pd.DataFrame()\n",
    "for i in preferences.columns:\n",
    "    if i in non_human_arr:\n",
    "        non_human = pd.concat([non_human, preferences[i]], axis=1)\n",
    "\n",
    "non_human_mean=non_human.mean().to_numpy()\n",
    "plt.hist(non_human_mean)\n",
    "plt.xlabel('Preference ratings means')\n",
    "plt.ylabel('Frequency')\n",
    "plt.title('Non-human generated arts')"
   ]
  },
  {
   "cell_type": "code",
   "execution_count": 298,
   "id": "5d8c9071-4487-45ed-94fa-510042eb4243",
   "metadata": {},
   "outputs": [
    {
     "name": "stdout",
     "output_type": "stream",
     "text": [
      "The U statistics is 644.0 The p-value is 2.995997764824167e-06\n",
      "There is a significant difference between the preference ratings among modern and non-human art\n"
     ]
    }
   ],
   "source": [
    "#since the distribution is also not normally distirbuted, i will still be using the mann whitney u test\n",
    "\n",
    "stat2, pv2 = mannwhitneyu(modern_mean,non_human_mean)\n",
    "print(\"The U statistics is\", stat2, \"The p-value is\",pv2)\n",
    "# Interpret the results\n",
    "if pv2 < 0.05:\n",
    "    print(\"There is a significant difference between the preference ratings among modern and non-human art\")\n",
    "else:\n",
    "    print(\"There is no significant difference between the preference ratings among modern and non-human art\")"
   ]
  },
  {
   "cell_type": "markdown",
   "id": "d6da26cd-5e1a-47ce-91ed-e4da0f5aa753",
   "metadata": {},
   "source": [
    "## 3. Do women give higher art preference ratings than men?"
   ]
  },
  {
   "cell_type": "code",
   "execution_count": 299,
   "id": "d9486cd3-4072-44ba-a7ce-46e8e3ba60f9",
   "metadata": {},
   "outputs": [
    {
     "data": {
      "text/plain": [
       "Text(0, 0.5, 'Frequency')"
      ]
     },
     "execution_count": 299,
     "metadata": {},
     "output_type": "execute_result"
    },
    {
     "data": {
      "image/png": "[encoded data removed]",
      "text/plain": [
       "<Figure size 720x360 with 2 Axes>"
      ]
     },
     "metadata": {
      "needs_background": "light"
     },
     "output_type": "display_data"
    }
   ],
   "source": [
    "#dt[216]: 1(male) or 2(female)\n",
    "\n",
    "#H0: There is no difference in art preference ratings between women and men\n",
    "#H1: Women give higher art preference ratings than men\n",
    "\n",
    "#remove na values\n",
    "men=dt[dt.iloc[:,216] == 1]\n",
    "men=men.iloc[:,:91].to_numpy()\n",
    "\n",
    "women=dt[dt.iloc[:,216] == 2]\n",
    "women=women.iloc[:,:91].to_numpy()\n",
    "\n",
    "\n",
    "men_mean = np.nanmean(men,axis=1)\n",
    "women_mean = np.nanmean(women,axis=1)\n",
    "\n",
    "# Plot the histograms on each subplot\n",
    "fig, axs = plt.subplots(1, 2, figsize=(10, 5))\n",
    "\n",
    "axs[0].hist(women_mean, bins=20)\n",
    "axs[1].hist(men_mean, bins=20)\n",
    "\n",
    "# Add titles and labels to each subplot\n",
    "axs[0].set_title('Women')\n",
    "axs[1].set_title('Men')\n",
    "axs[0].set_xlabel('Preference ratings means')\n",
    "axs[1].set_xlabel('Preference ratings means')\n",
    "axs[0].set_ylabel('Frequency')\n",
    "axs[1].set_ylabel('Frequency')"
   ]
  },
  {
   "cell_type": "code",
   "execution_count": 300,
   "id": "8ee58fb9-b635-4f51-89dc-9045f2b38a34",
   "metadata": {},
   "outputs": [
    {
     "name": "stdout",
     "output_type": "stream",
     "text": [
      "The t statistics is -0.1378782526747258 The p-value is 0.890438650804795\n",
      "There is no significant difference between the preference ratings among women and men\n"
     ]
    }
   ],
   "source": [
    "#significance test using independent t-test since the distribution is normally distributed\n",
    "t_stat, p_value = ttest_ind(men_mean, women_mean)\n",
    "print(\"The t statistics is\", t_stat, \"The p-value is\",p_value)\n",
    "# Interpret the results\n",
    "if p_value < 0.05:\n",
    "    if men_mean.mean() > women_mean.mean():\n",
    "        print(\"Men give higher preference ratings than women.\")\n",
    "    if women_mean.mean() > men_mean.mean():\n",
    "        print(\"Women give higher preference ratings than men.\")\n",
    "else:\n",
    "    print(\"There is no significant difference between the preference ratings among women and men\")"
   ]
  },
  {
   "cell_type": "markdown",
   "id": "c8d76d07-d432-465f-8827-b2f962636327",
   "metadata": {},
   "source": [
    "## 4. Is there a difference in the preference ratings of users with some art background (some art education) vs. none? "
   ]
  },
  {
   "cell_type": "code",
   "execution_count": 301,
   "id": "41505392-6cc8-479d-8b12-920b9edac7e0",
   "metadata": {},
   "outputs": [
    {
     "data": {
      "text/plain": [
       "Text(0, 0.5, 'Frequency')"
      ]
     },
     "execution_count": 301,
     "metadata": {},
     "output_type": "execute_result"
    },
    {
     "data": {
      "image/png": "[encoded data removed]",
      "text/plain": [
       "<Figure size 720x360 with 2 Axes>"
      ]
     },
     "metadata": {
      "needs_background": "light"
     },
     "output_type": "display_data"
    }
   ],
   "source": [
    "#dt[218]: 0 or >0\n",
    "\n",
    "#two-tailed, non-directional\n",
    "#H0: There is no difference in the preference ratings of users with some art background (some art education) vs. none.\n",
    "#H1: There is a difference in the preference ratings of users with some art background (some art education) vs. none.\n",
    "artsy=dt[dt.iloc[:,218] == 0]\n",
    "artsy=artsy.iloc[:,:91].to_numpy()\n",
    "\n",
    "nonart=dt[dt.iloc[:,218] != 0]\n",
    "nonart=nonart.iloc[:,:91].to_numpy()\n",
    "\n",
    "\n",
    "artsy_mean=np.nanmean(artsy,axis=1)\n",
    "nonart_mean=np.nanmean(nonart,axis=1)\n",
    "\n",
    "# Plot the histograms on each subplot\n",
    "fig, axs = plt.subplots(1, 2, figsize=(10, 5))\n",
    "\n",
    "axs[0].hist(artsy_mean, bins=20)\n",
    "axs[1].hist(nonart_mean, bins=20)\n",
    "\n",
    "# Add titles and labels to each subplot\n",
    "axs[0].set_title('Users with some art background')\n",
    "axs[1].set_title('Users with no art background')\n",
    "axs[0].set_xlabel('Preference ratings means')\n",
    "axs[1].set_xlabel('Preference ratings means')\n",
    "axs[0].set_ylabel('Frequency')\n",
    "axs[1].set_ylabel('Frequency')"
   ]
  },
  {
   "cell_type": "code",
   "execution_count": 302,
   "id": "829863b9-778b-4048-a680-6566fe22c944",
   "metadata": {},
   "outputs": [
    {
     "name": "stdout",
     "output_type": "stream",
     "text": [
      "The t statistics is 1.4862916486925262 The p-value is 0.13825918475836102\n",
      "There is no significant difference between the preference ratings among users with some art background versus none\n"
     ]
    }
   ],
   "source": [
    "#The histograms show normal distributions of both groups, hence I will be using the t-test for independent groups to test the significance difference\n",
    "\n",
    "t_art, p_art = ttest_ind(artsy_mean, nonart_mean)\n",
    "print(\"The t statistics is\", t_art, \"The p-value is\",p_art)\n",
    "# Interpret the results\n",
    "if p_value < 0.05:\n",
    "    print(\"There is a significant difference between the preference ratings among users with some art background versus none\")\n",
    "else:\n",
    "    print(\"There is no significant difference between the preference ratings among users with some art background versus none\")"
   ]
  },
  {
   "cell_type": "markdown",
   "id": "a87190e4-b8e3-426a-9dde-d7918beb0b6c",
   "metadata": {},
   "source": [
    "## 5. Build a regression model to predict art preference ratings from energy ratings only. Make sure to use cross-validation methods to avoid overfitting and characterize how well your model predicts art preference ratings."
   ]
  },
  {
   "cell_type": "code",
   "execution_count": 303,
   "id": "8583c288-4c72-4fdd-87f2-bb94847af26b",
   "metadata": {},
   "outputs": [],
   "source": [
    "#linear regression since there is only one variable predicting the other"
   ]
  },
  {
   "cell_type": "code",
   "execution_count": 381,
   "id": "60f8fb82-688a-40e7-b29b-6657e52a8664",
   "metadata": {},
   "outputs": [
    {
     "name": "stdout",
     "output_type": "stream",
     "text": [
      "300\n"
     ]
    }
   ],
   "source": [
    "#means of each user’s energy ratings\n",
    "energy=dt.iloc[:, 92:182]\n",
    "r_energy=np.mean(energy, axis=1)\n",
    "x=np.array(r_energy).reshape(len(preferences),1)\n",
    "\n",
    "#means of each user’s preference ratings\n",
    "r_preferences=np.mean(preferences, axis=1)\n",
    "y=np.array(r_preferences)"
   ]
  },
  {
   "cell_type": "code",
   "execution_count": 382,
   "id": "33e50dfc-cb96-4705-9588-4d65057128ea",
   "metadata": {},
   "outputs": [
    {
     "name": "stdout",
     "output_type": "stream",
     "text": [
      "The intercept is: 1.8831603043539769 The slope is: [0.58012863]\n",
      "The RMSE of the model is: 0.6747446230904848\n",
      "The R-squared of the model is: 0.05236539424859743\n"
     ]
    }
   ],
   "source": [
    "#cross-validation train test splits\n",
    "xTrain, xTest , yTrain, yTest = train_test_split(x,y, test_size=0.5, random_state=N_Number)\n",
    "model = LinearRegression()\n",
    "model.fit(xTrain,yTrain)\n",
    "\n",
    "intercept=model.intercept_\n",
    "slope= model.coef_\n",
    "print(\"The intercept is:\", intercept, \"The slope is:\", slope)\n",
    "\n",
    "y_pred = model.predict(xTest)\n",
    "\n",
    "#rmse\n",
    "rmseSingle=np.sqrt(np.mean((y_pred.reshape((-1,1))-yTest)**2))\n",
    "print(\"The RMSE of the model is:\", rmseSingle)\n",
    "\n",
    "#rsqr \n",
    "rSqrSingle = r2_score(yTest,y_pred)\n",
    "print(\"The R-squared of the model is:\", rSqrSingle)"
   ]
  },
  {
   "cell_type": "code",
   "execution_count": 385,
   "id": "dd9cdd85-09fc-4b80-9003-afa7ed037bce",
   "metadata": {},
   "outputs": [
    {
     "data": {
      "text/plain": [
       "Text(0.5, 1.0, 'R^2 = 0.052')"
      ]
     },
     "execution_count": 385,
     "metadata": {},
     "output_type": "execute_result"
    },
    {
     "data": {
      "image/png": "[encoded data removed]",
      "text/plain": [
       "<Figure size 432x288 with 1 Axes>"
      ]
     },
     "metadata": {
      "needs_background": "light"
     },
     "output_type": "display_data"
    }
   ],
   "source": [
    "#predicted vs. actual of the model\n",
    "plt.plot(yTest,y_pred,'o',markersize=5)\n",
    "plt.xlabel('Actual preferences ratings') \n",
    "plt.ylabel('Predicted preferences ratings from model')  \n",
    "plt.title('R^2 = {:.3f}'.format(rSqrSingle))"
   ]
  },
  {
   "cell_type": "markdown",
   "id": "dd638c4d-9cb1-4237-b8e5-59da34a7bff3",
   "metadata": {},
   "source": [
    "## 6. Build a regression model to predict art preference ratings from energy ratings and demographic information. Make sure to use cross-validation methods to avoid overfitting and comment on how well your model predicts relative to the “energy ratings only” model."
   ]
  },
  {
   "cell_type": "code",
   "execution_count": 368,
   "id": "3515cc27-1059-4bc9-981d-f7d4a74a2e34",
   "metadata": {},
   "outputs": [
    {
     "name": "stdout",
     "output_type": "stream",
     "text": [
      "The intercept is: 3.453580176481383 The slope is: [ 0.51593946 -0.06606854 -0.04594377]\n",
      "The RMSE of the model is: 0.7059413921740698\n",
      "The R-squared of the model is: 0.16029512149519431\n"
     ]
    }
   ],
   "source": [
    "#multiple regression\n",
    "#demographic information: age, gender\n",
    "#remove na values on only the age and gender column \n",
    "\n",
    "age=dt.iloc[:, 215]\n",
    "gender=dt.iloc[:, 216]\n",
    "#remove the index of r_energy and r_preferences where age and gender has na value\n",
    "Xy_na=np.column_stack((r_energy,age,gender,r_preferences))\n",
    "mask = ~np.isnan(Xy_na).any(axis=1)\n",
    "X_y = Xy_na[mask]\n",
    "\n",
    "X=X_y[:, :3]\n",
    "y2=X_y[:,-1]\n",
    "\n",
    "X_train1, X_test1, y_train1, y_test1 = train_test_split(X,y2, test_size=0.5, random_state=N_Number)\n",
    "fullmodel = LinearRegression()\n",
    "fullmodel.fit(X_train1,y_train1)\n",
    "\n",
    "fullintercept=fullmodel.intercept_\n",
    "fullslope=fullmodel.coef_\n",
    "print(\"The intercept is:\", fullintercept, \"The slope is:\",fullslope)\n",
    "\n",
    "y_pred_full = fullmodel.predict(X_test1)\n",
    "\n",
    "#rmse\n",
    "rmseFull=np.sqrt(np.mean((y_pred_full.reshape((-1,1))-y_test1)**2))\n",
    "print(\"The RMSE of the model is:\", rmseFull)\n",
    "\n",
    "rSqrFull=r2_score(y_test1,y_pred_full)\n",
    "print(\"The R-squared of the model is:\", rSqrFull)"
   ]
  },
  {
   "cell_type": "code",
   "execution_count": 374,
   "id": "7dcbd0e2-30c3-4954-be14-764d2837b592",
   "metadata": {},
   "outputs": [
    {
     "data": {
      "text/plain": [
       "Text(0.5, 1.0, 'R^2 = 0.160')"
      ]
     },
     "execution_count": 374,
     "metadata": {},
     "output_type": "execute_result"
    },
    {
     "data": {
      "image/png": "[encoded data removed]",
      "text/plain": [
       "<Figure size 432x288 with 1 Axes>"
      ]
     },
     "metadata": {
      "needs_background": "light"
     },
     "output_type": "display_data"
    }
   ],
   "source": [
    "plt.plot(y_test,y_pred_full,'o',markersize=5)\n",
    "plt.xlabel('Actual preferences ratings') \n",
    "plt.ylabel('Predicted preferences ratings from model')  \n",
    "plt.title('R^2 = {:.3f}'.format(rSqrFull))"
   ]
  },
  {
   "cell_type": "markdown",
   "id": "d7672a09-6ef9-4aa4-9d8f-b27b750ff7f5",
   "metadata": {},
   "source": [
    "## 7. Considering the 2D space of average preference ratings vs. average energy rating (that contains the 91 art pieces as elements), how many clusters can you – algorithmically - identify in this space? Make sure to comment on the identity of the clusters – do they correspond to particular types of art?"
   ]
  },
  {
   "cell_type": "code",
   "execution_count": 390,
   "id": "dc4f0b7d-ba5b-40fb-9b40-ab27d537cb78",
   "metadata": {},
   "outputs": [
    {
     "data": {
      "image/png": "[encoded data removed]",
      "text/plain": [
       "<Figure size 432x288 with 9 Axes>"
      ]
     },
     "metadata": {
      "needs_background": "light"
     },
     "output_type": "display_data"
    }
   ],
   "source": [
    "#putting the means of energy and preferences into one dataset\n",
    "energy=dt.iloc[:,91:182]\n",
    "e_mean=np.nanmean(energy,axis=0)\n",
    "preferences_np= dt.iloc[:,:91].to_numpy()\n",
    "p_mean=np.nanmean(preferences_np,axis=0)\n",
    "p_e=np.column_stack((p_mean,e_mean))\n",
    "\n",
    "\n",
    "#set the kmeans clusters to be 9 clusters\n",
    "numClusters = 9 \n",
    "sSum = np.empty([numClusters,1])*np.NaN\n",
    "\n",
    "for ii in range(2, numClusters+2): \n",
    "    kMeans = KMeans(n_clusters = int(ii),random_state= N_Number).fit(p_e) \n",
    "    cId = kMeans.labels_ \n",
    "    cCoords = kMeans.cluster_centers_ \n",
    "    s = silhouette_samples(p_e,cId) \n",
    "    sSum[ii-2] = sum(s) \n",
    "    # Plot data:\n",
    "    plt.subplot(3,3,ii-1) \n",
    "    plt.hist(s,bins=20) \n",
    "    plt.xlim(-0.2,1)\n",
    "    plt.ylim(0,20)\n",
    "    plt.xlabel('Silhouette score')\n",
    "    plt.ylabel('Count')\n",
    "    plt.title('Sum: {}'.format(int(sSum[ii-2]))) \n",
    "    plt.tight_layout() "
   ]
  },
  {
   "cell_type": "code",
   "execution_count": 391,
   "id": "adacddd0-0d2d-4fa3-8b63-416856b76b03",
   "metadata": {},
   "outputs": [
    {
     "data": {
      "image/png": "[encoded data removed]",
      "text/plain": [
       "<Figure size 432x288 with 1 Axes>"
      ]
     },
     "metadata": {
      "needs_background": "light"
     },
     "output_type": "display_data"
    },
    {
     "data": {
      "image/png": "[encoded data removed]",
      "text/plain": [
       "<Figure size 432x288 with 1 Axes>"
      ]
     },
     "metadata": {
      "needs_background": "light"
     },
     "output_type": "display_data"
    }
   ],
   "source": [
    "plt.plot(np.linspace(2,numClusters,9),sSum)\n",
    "plt.xlabel('Number of clusters')\n",
    "plt.ylabel('Sum of silhouette scores')\n",
    "plt.show()\n",
    "\n",
    "#numbers of clusters are 4\n",
    "numClusters = 4\n",
    "kMeans = KMeans(n_clusters = numClusters).fit(p_e) \n",
    "cId = kMeans.labels_ \n",
    "cCoords = kMeans.cluster_centers_ \n",
    "\n",
    "# Plot the color-coded data:\n",
    "for ii in range(numClusters):\n",
    "    plotIndex = np.argwhere(cId == int(ii))\n",
    "    plt.plot(p_e[plotIndex,0],p_e[plotIndex,1],'o',markersize=1)\n",
    "    plt.plot(cCoords[int(ii-1),0],cCoords[int(ii-1),1],'o',markersize=5,color='black')  \n",
    "    plt.xlabel('Average Preferences ratings')\n",
    "    plt.ylabel('Average Energy ratings')"
   ]
  },
  {
   "cell_type": "code",
   "execution_count": 392,
   "id": "a5feb48e-b179-4192-8cd7-e8eae404125f",
   "metadata": {},
   "outputs": [
    {
     "name": "stdout",
     "output_type": "stream",
     "text": [
      "Cluster 1 contains mostly any of the followings: Abstract Expressionism 1925 2 0 1\n",
      "Cluster 2 contains mostly any of the followings: Neoclassical 1500 1 0 1\n",
      "Cluster 3 contains mostly any of the followings: Abstract 2017 3 1 0\n",
      "Cluster 4 contains mostly any of the followings: Rococo 1635 2 0 1\n"
     ]
    }
   ],
   "source": [
    "#I will put the clusters \n",
    "\n",
    "cluster=art.iloc[:,3:8]\n",
    "cluster['Cluster'] = cId\n",
    "\n",
    "cluster_1 = cluster[cluster['Cluster'] == 0]\n",
    "print(\"Cluster 1 contains mostly any of the followings:\", cluster_1.iloc[:, 0].mode()[0],cluster_1.iloc[:, 1].mode()[0],cluster_1.iloc[:, 2].mode()[0],cluster_1.iloc[:, 3].mode()[0],cluster_1.iloc[:, 4].mode()[0])\n",
    "cluster_2 = cluster[cluster['Cluster'] == 1]\n",
    "print(\"Cluster 2 contains mostly any of the followings:\",cluster_2.iloc[:, 0].mode()[0],cluster_2.iloc[:, 1].mode()[0],cluster_2.iloc[:, 2].mode()[0],cluster_2.iloc[:, 3].mode()[0],cluster_2.iloc[:, 4].mode()[0])\n",
    "cluster_3 = cluster[cluster['Cluster'] == 2]\n",
    "print(\"Cluster 3 contains mostly any of the followings:\",cluster_3.iloc[:, 0].mode()[0],cluster_3.iloc[:, 1].mode()[0],cluster_3.iloc[:, 2].mode()[0],cluster_3.iloc[:, 3].mode()[0],cluster_3.iloc[:, 4].mode()[0])\n",
    "cluster_4 = cluster[cluster['Cluster'] == 3]\n",
    "print(\"Cluster 4 contains mostly any of the followings:\",cluster_4.iloc[:, 0].mode()[0],cluster_4.iloc[:, 1].mode()[0],cluster_4.iloc[:, 2].mode()[0],cluster_4.iloc[:, 3].mode()[0],cluster_4.iloc[:, 4].mode()[0])"
   ]
  },
  {
   "cell_type": "markdown",
   "id": "fd7e834b-4492-44e5-b009-423efc5f2de1",
   "metadata": {},
   "source": [
    "## 8. Considering only the first principal component of the self-image ratings as inputs to a regression model – how well can you predict art preference ratings from that factor alone?"
   ]
  },
  {
   "cell_type": "code",
   "execution_count": 394,
   "id": "7557aea3-9aa1-46b3-bc88-2b1866c095fd",
   "metadata": {},
   "outputs": [
    {
     "name": "stdout",
     "output_type": "stream",
     "text": [
      "286\n"
     ]
    }
   ],
   "source": [
    "from sklearn.metrics import mean_squared_error\n",
    "#put self image and preferences into one dataset\n",
    "\n",
    "self_dt = dt.iloc[:,205:215]\n",
    "self_preference_na=np.column_stack((self_dt,preferences))\n",
    "mask_self = ~np.isnan(self_preference_na).any(axis=1)\n",
    "self_preference = self_preference_na[mask_self]\n",
    "\n",
    "self=self_preference[:, :10]\n",
    "preferences_self=self_preference[:, 10:]"
   ]
  },
  {
   "cell_type": "code",
   "execution_count": 393,
   "id": "24f14397-bbb1-40fe-854b-b51a43bb29f9",
   "metadata": {},
   "outputs": [
    {
     "data": {
      "image/png": "[encoded data removed]",
      "text/plain": [
       "<Figure size 432x288 with 2 Axes>"
      ]
     },
     "metadata": {
      "needs_background": "light"
     },
     "output_type": "display_data"
    },
    {
     "data": {
      "image/png": "[encoded data removed]",
      "text/plain": [
       "<Figure size 432x288 with 1 Axes>"
      ]
     },
     "metadata": {
      "needs_background": "light"
     },
     "output_type": "display_data"
    },
    {
     "name": "stdout",
     "output_type": "stream",
     "text": [
      "The RMSE of the model is: 0.6747446230904848\n",
      "The R-squared of the model is: 0.05236539424859743\n"
     ]
    },
    {
     "data": {
      "text/plain": [
       "Text(0.5, 1.0, 'First Principal component vs. actual preference ratings')"
      ]
     },
     "execution_count": 393,
     "metadata": {},
     "output_type": "execute_result"
    },
    {
     "data": {
      "image/png": "[encoded data removed]",
      "text/plain": [
       "<Figure size 432x288 with 1 Axes>"
      ]
     },
     "metadata": {
      "needs_background": "light"
     },
     "output_type": "display_data"
    }
   ],
   "source": [
    "#graph the correlation matrix\n",
    "\n",
    "r_self = np.corrcoef(self, rowvar=False)\n",
    "plt.imshow(r_self) \n",
    "plt.colorbar()\n",
    "plt.show()\n",
    "\n",
    "corr_self = np.corrcoef(r_self, rowvar=False)\n",
    "\n",
    "\n",
    "#further, I am going to transform the data and use scree plot to determine the principle components\n",
    "z_self = stats.zscore(self)\n",
    "pca_self = PCA().fit(z_self)\n",
    "eigVals_self = pca_self.explained_variance_\n",
    "loadings_self = pca_self.components_*-1\n",
    "orig_self = pca_self.fit_transform(z_self)*-1\n",
    "\n",
    "#numbers of predictors is 10 since there are 10 variables in the dataset\n",
    "numPredictors = 10\n",
    "plt.bar(np.linspace(1,numPredictors,numPredictors),eigVals_self)\n",
    "plt.xlabel('Principal component')\n",
    "plt.ylabel('Eigenvalue')\n",
    "plt.title('Scree plot')\n",
    "plt.show()\n",
    "\n",
    "plt.subplot(1,2,1) # Factor 1: \n",
    "plt.bar(np.linspace(1,numPredictors,numPredictors),loadings_self[0,:])\n",
    "plt.title('first principle component')\n",
    "\n",
    "\n",
    "#conduct regression model on first principal component\n",
    "self_pc1=orig_self[:,0].reshape((-1, 1))\n",
    "y_self= self_preference.mean(axis=1)\n",
    "self_df = pd.DataFrame({'X': self_pc1.flatten(), 'y': y_self})\n",
    "\n",
    "\n",
    "x = self_df[['X']].values.reshape(-1, 1)\n",
    "y = self_df['y'].values.reshape(-1, 1)\n",
    "\n",
    "reg = LinearRegression()\n",
    "reg.fit(x, y)\n",
    "self_pred = reg.predict(x)\n",
    "\n",
    "#rmse\n",
    "rmse_self=np.sqrt(np.mean((self_pred.reshape((-1,1))-y)**2))\n",
    "print(\"The RMSE of the model is:\", rmseSingle)\n",
    "\n",
    "#rsqr\n",
    "r_self = model.score(x,y)\n",
    "print(\"The R-squared of the model is:\", rSqrSingle)"
   ]
  },
  {
   "cell_type": "markdown",
   "id": "c8d4610c-b327-4169-b2c0-905ba1d0393e",
   "metadata": {},
   "source": [
    "## 9. Consider the first 3 principal components of the “dark personality” traits – use these as inputs to a regression model to predict art preference ratings. Which of these components significantly predict art preference ratings? Comment on the likely identity of these factors (e.g. narcissism, manipulativeness, callousness, etc.)."
   ]
  },
  {
   "cell_type": "code",
   "execution_count": 395,
   "id": "15c27617-5663-41da-b75e-ff86607125b7",
   "metadata": {},
   "outputs": [
    {
     "data": {
      "image/png": "[encoded data removed]",
      "text/plain": [
       "<Figure size 432x288 with 2 Axes>"
      ]
     },
     "metadata": {
      "needs_background": "light"
     },
     "output_type": "display_data"
    },
    {
     "data": {
      "image/png": "[encoded data removed]",
      "text/plain": [
       "<Figure size 432x288 with 1 Axes>"
      ]
     },
     "metadata": {
      "needs_background": "light"
     },
     "output_type": "display_data"
    },
    {
     "data": {
      "image/png": "[encoded data removed]",
      "text/plain": [
       "<Figure size 432x288 with 2 Axes>"
      ]
     },
     "metadata": {
      "needs_background": "light"
     },
     "output_type": "display_data"
    },
    {
     "data": {
      "image/png": "[encoded data removed]",
      "text/plain": [
       "<Figure size 432x288 with 1 Axes>"
      ]
     },
     "metadata": {
      "needs_background": "light"
     },
     "output_type": "display_data"
    },
    {
     "name": "stdout",
     "output_type": "stream",
     "text": [
      "                            OLS Regression Results                            \n",
      "==============================================================================\n",
      "Dep. Variable:                      y   R-squared:                       0.066\n",
      "Model:                            OLS   Adj. R-squared:                  0.056\n",
      "Method:                 Least Squares   F-statistic:                     6.590\n",
      "Date:                Fri, 12 May 2023   Prob (F-statistic):           0.000256\n",
      "Time:                        03:35:07   Log-Likelihood:                -233.66\n",
      "No. Observations:                 284   AIC:                             475.3\n",
      "Df Residuals:                     280   BIC:                             489.9\n",
      "Df Model:                           3                                         \n",
      "Covariance Type:            nonrobust                                         \n",
      "==============================================================================\n",
      "                 coef    std err          t      P>|t|      [0.025      0.975]\n",
      "------------------------------------------------------------------------------\n",
      "const          4.0769      0.033    123.834      0.000       4.012       4.142\n",
      "x1            -0.0353      0.017     -2.028      0.043      -0.070      -0.001\n",
      "x2             0.0788      0.025      3.090      0.002       0.029       0.129\n",
      "x3             0.0773      0.031      2.471      0.014       0.016       0.139\n",
      "==============================================================================\n",
      "Omnibus:                       16.055   Durbin-Watson:                   2.140\n",
      "Prob(Omnibus):                  0.000   Jarque-Bera (JB):               31.897\n",
      "Skew:                          -0.276   Prob(JB):                     1.18e-07\n",
      "Kurtosis:                       4.546   Cond. No.                         1.89\n",
      "==============================================================================\n",
      "\n",
      "Notes:\n",
      "[1] Standard Errors assume that the covariance matrix of the errors is correctly specified.\n"
     ]
    }
   ],
   "source": [
    "import statsmodels.api as sm\n",
    "\n",
    "dark_dt = dt.iloc[:,182:194]\n",
    "dark_preference_na=np.column_stack((dark_dt,preferences))\n",
    "mask_dark = ~np.isnan(dark_preference_na).any(axis=1)\n",
    "dark_preference = dark_preference_na[mask_dark]\n",
    "\n",
    "dark=dark_preference[:, :12]\n",
    "preferences_dark=dark_preference[:, 12:]\n",
    "\n",
    "r_dark = np.corrcoef(dark, rowvar=False)\n",
    "plt.imshow(r_dark) \n",
    "plt.colorbar()\n",
    "plt.show()\n",
    "\n",
    "\n",
    "z_dark = stats.zscore(dark)\n",
    "pca_dark = PCA().fit(z_dark)\n",
    "eigVals_dark = pca_dark.explained_variance_\n",
    "loadings_dark = pca_dark.components_*-1\n",
    "orig_dark = pca_dark.fit_transform(z_dark)*-1\n",
    "\n",
    "numPredictors = 12\n",
    "plt.bar(np.linspace(1,numPredictors,numPredictors),eigVals_dark)\n",
    "plt.title('Scree plot')\n",
    "plt.xlabel('Principal Components')\n",
    "plt.ylabel('Eigenvalues')\n",
    "plt.show()\n",
    "\n",
    "\n",
    "plt.subplot(1,3,1) # Factor 1: \n",
    "plt.bar(np.linspace(1,numPredictors,numPredictors),loadings_dark[0,:]) \n",
    "plt.title('PC 1')\n",
    "#factor 1: lowest in first and fourth, manipulate\n",
    "#least likely to manipulate others-->predict art preferences\n",
    "\n",
    "\n",
    "plt.subplot(1,3,2) # Factor 2:\n",
    "plt.bar(np.linspace(1,numPredictors,numPredictors),loadings_dark[1,:]) \n",
    "plt.title('PC 2')\n",
    "plt.show()\n",
    "#factor 2: highest in question 9,10 (want others to admire), lowest in 5, 6(lack remorse, unconcerned)\n",
    "#narcissism\n",
    "\n",
    "plt.subplot(1,3,3) # Factor 3:\n",
    "plt.bar(np.linspace(1,numPredictors,numPredictors),loadings_dark[2,:])\n",
    "plt.title('PC 3')\n",
    "plt.show()\n",
    "#factor 3: highest in question 7,8, cynical and want others to admire\n",
    "#callous\n",
    "\n",
    "\n",
    "#which of the components significantly predict art preference ratings\n",
    "#use as inputs to a regression model to predict art preferences\n",
    "first=orig_dark[:,0].reshape((-1,1))\n",
    "second=orig_dark[:,1].reshape((-1,1))\n",
    "third=orig_dark[:,2].reshape((-1,1))\n",
    "\n",
    "\n",
    "y_dark= dark_preference.mean(axis=1)\n",
    "\n",
    "pcdark=np.column_stack((first,second,third))\n",
    "\n",
    "dark_model=sm.OLS(y_dark,sm.add_constant(pcdark[:, :3]))\n",
    "result=dark_model.fit()\n",
    "print(result.summary())\n",
    "#only the second pc is signficant   "
   ]
  },
  {
   "cell_type": "markdown",
   "id": "a93d5f41-d43c-4a78-b939-ff90c2c9899b",
   "metadata": {},
   "source": [
    "## 10. Can you determine the political orientation of the users (to simplify things and avoid gross class imbalance issues, you can consider just 2 classes: “left” (progressive & liberal) vs. “nonleft” (everyone else)) from all the other information available, using any classification model of your choice? Make sure to comment on the classification quality of this model. "
   ]
  },
  {
   "cell_type": "code",
   "execution_count": null,
   "id": "337ac6ab-ae0f-4744-9bf7-08fcaded1d08",
   "metadata": {},
   "outputs": [
    {
     "data": {
      "text/html": [
       "<div>\n",
       "<style scoped>\n",
       "    .dataframe tbody tr th:only-of-type {\n",
       "        vertical-align: middle;\n",
       "    }\n",
       "\n",
       "    .dataframe tbody tr th {\n",
       "        vertical-align: top;\n",
       "    }\n",
       "\n",
       "    .dataframe thead th {\n",
       "        text-align: right;\n",
       "    }\n",
       "</style>\n",
       "<table border=\"1\" class=\"dataframe\">\n",
       "  <thead>\n",
       "    <tr style=\"text-align: right;\">\n",
       "      <th></th>\n",
       "      <th>0</th>\n",
       "      <th>0</th>\n",
       "      <th>0</th>\n",
       "      <th>0</th>\n",
       "      <th>0</th>\n",
       "      <th>215</th>\n",
       "      <th>216</th>\n",
       "      <th>218</th>\n",
       "      <th>219</th>\n",
       "      <th>220</th>\n",
       "    </tr>\n",
       "  </thead>\n",
       "  <tbody>\n",
       "    <tr>\n",
       "      <th>0</th>\n",
       "      <td>1.000000</td>\n",
       "      <td>0.341498</td>\n",
       "      <td>0.006588</td>\n",
       "      <td>0.229027</td>\n",
       "      <td>-0.009137</td>\n",
       "      <td>-0.101765</td>\n",
       "      <td>0.041552</td>\n",
       "      <td>-0.075147</td>\n",
       "      <td>-0.054188</td>\n",
       "      <td>0.038588</td>\n",
       "    </tr>\n",
       "    <tr>\n",
       "      <th>0</th>\n",
       "      <td>0.341498</td>\n",
       "      <td>1.000000</td>\n",
       "      <td>0.118743</td>\n",
       "      <td>0.191698</td>\n",
       "      <td>0.031392</td>\n",
       "      <td>0.159496</td>\n",
       "      <td>0.013678</td>\n",
       "      <td>-0.089361</td>\n",
       "      <td>-0.002061</td>\n",
       "      <td>0.049616</td>\n",
       "    </tr>\n",
       "    <tr>\n",
       "      <th>0</th>\n",
       "      <td>0.006588</td>\n",
       "      <td>0.118743</td>\n",
       "      <td>1.000000</td>\n",
       "      <td>0.136096</td>\n",
       "      <td>-0.119930</td>\n",
       "      <td>0.083865</td>\n",
       "      <td>-0.114610</td>\n",
       "      <td>-0.040071</td>\n",
       "      <td>0.048499</td>\n",
       "      <td>0.037228</td>\n",
       "    </tr>\n",
       "    <tr>\n",
       "      <th>0</th>\n",
       "      <td>0.229027</td>\n",
       "      <td>0.191698</td>\n",
       "      <td>0.136096</td>\n",
       "      <td>1.000000</td>\n",
       "      <td>0.068257</td>\n",
       "      <td>0.055102</td>\n",
       "      <td>-0.052197</td>\n",
       "      <td>-0.014880</td>\n",
       "      <td>0.098931</td>\n",
       "      <td>0.080237</td>\n",
       "    </tr>\n",
       "    <tr>\n",
       "      <th>0</th>\n",
       "      <td>-0.009137</td>\n",
       "      <td>0.031392</td>\n",
       "      <td>-0.119930</td>\n",
       "      <td>0.068257</td>\n",
       "      <td>1.000000</td>\n",
       "      <td>0.128735</td>\n",
       "      <td>-0.053799</td>\n",
       "      <td>0.035142</td>\n",
       "      <td>0.013167</td>\n",
       "      <td>0.010832</td>\n",
       "    </tr>\n",
       "    <tr>\n",
       "      <th>215</th>\n",
       "      <td>-0.101765</td>\n",
       "      <td>0.159496</td>\n",
       "      <td>0.083865</td>\n",
       "      <td>0.055102</td>\n",
       "      <td>0.128735</td>\n",
       "      <td>1.000000</td>\n",
       "      <td>-0.121819</td>\n",
       "      <td>-0.022349</td>\n",
       "      <td>0.081834</td>\n",
       "      <td>-0.055918</td>\n",
       "    </tr>\n",
       "    <tr>\n",
       "      <th>216</th>\n",
       "      <td>0.041552</td>\n",
       "      <td>0.013678</td>\n",
       "      <td>-0.114610</td>\n",
       "      <td>-0.052197</td>\n",
       "      <td>-0.053799</td>\n",
       "      <td>-0.121819</td>\n",
       "      <td>1.000000</td>\n",
       "      <td>0.062404</td>\n",
       "      <td>0.085199</td>\n",
       "      <td>0.101008</td>\n",
       "    </tr>\n",
       "    <tr>\n",
       "      <th>218</th>\n",
       "      <td>-0.075147</td>\n",
       "      <td>-0.089361</td>\n",
       "      <td>-0.040071</td>\n",
       "      <td>-0.014880</td>\n",
       "      <td>0.035142</td>\n",
       "      <td>-0.022349</td>\n",
       "      <td>0.062404</td>\n",
       "      <td>1.000000</td>\n",
       "      <td>0.151801</td>\n",
       "      <td>0.348321</td>\n",
       "    </tr>\n",
       "    <tr>\n",
       "      <th>219</th>\n",
       "      <td>-0.054188</td>\n",
       "      <td>-0.002061</td>\n",
       "      <td>0.048499</td>\n",
       "      <td>0.098931</td>\n",
       "      <td>0.013167</td>\n",
       "      <td>0.081834</td>\n",
       "      <td>0.085199</td>\n",
       "      <td>0.151801</td>\n",
       "      <td>1.000000</td>\n",
       "      <td>-0.031968</td>\n",
       "    </tr>\n",
       "    <tr>\n",
       "      <th>220</th>\n",
       "      <td>0.038588</td>\n",
       "      <td>0.049616</td>\n",
       "      <td>0.037228</td>\n",
       "      <td>0.080237</td>\n",
       "      <td>0.010832</td>\n",
       "      <td>-0.055918</td>\n",
       "      <td>0.101008</td>\n",
       "      <td>0.348321</td>\n",
       "      <td>-0.031968</td>\n",
       "      <td>1.000000</td>\n",
       "    </tr>\n",
       "  </tbody>\n",
       "</table>\n",
       "</div>"
      ],
      "text/plain": [
       "          0         0         0         0         0         215       216  \\\n",
       "0    1.000000  0.341498  0.006588  0.229027 -0.009137 -0.101765  0.041552   \n",
       "0    0.341498  1.000000  0.118743  0.191698  0.031392  0.159496  0.013678   \n",
       "0    0.006588  0.118743  1.000000  0.136096 -0.119930  0.083865 -0.114610   \n",
       "0    0.229027  0.191698  0.136096  1.000000  0.068257  0.055102 -0.052197   \n",
       "0   -0.009137  0.031392 -0.119930  0.068257  1.000000  0.128735 -0.053799   \n",
       "215 -0.101765  0.159496  0.083865  0.055102  0.128735  1.000000 -0.121819   \n",
       "216  0.041552  0.013678 -0.114610 -0.052197 -0.053799 -0.121819  1.000000   \n",
       "218 -0.075147 -0.089361 -0.040071 -0.014880  0.035142 -0.022349  0.062404   \n",
       "219 -0.054188 -0.002061  0.048499  0.098931  0.013167  0.081834  0.085199   \n",
       "220  0.038588  0.049616  0.037228  0.080237  0.010832 -0.055918  0.101008   \n",
       "\n",
       "          218       219       220  \n",
       "0   -0.075147 -0.054188  0.038588  \n",
       "0   -0.089361 -0.002061  0.049616  \n",
       "0   -0.040071  0.048499  0.037228  \n",
       "0   -0.014880  0.098931  0.080237  \n",
       "0    0.035142  0.013167  0.010832  \n",
       "215 -0.022349  0.081834 -0.055918  \n",
       "216  0.062404  0.085199  0.101008  \n",
       "218  1.000000  0.151801  0.348321  \n",
       "219  0.151801  1.000000 -0.031968  \n",
       "220  0.348321 -0.031968  1.000000  "
      ]
     },
     "execution_count": 370,
     "metadata": {},
     "output_type": "execute_result"
    }
   ],
   "source": [
    "#change the dt column label to 1 and 0 instead of 2 or non 2\n",
    "df=dt.copy()\n",
    "df=df.dropna()\n",
    "\n",
    "info = df.drop(df.columns[[217]], axis=1)\n",
    "politics = np.where(df.iloc[:,217].isin([2,1]), 1, 0)\n",
    "\n",
    "#since a lot of info might be correlated itself, I will reduce each information categories into means of an individual\n",
    "means_1 = pd.DataFrame(np.mean(info.iloc[:, :91], axis=1))\n",
    "means_2 = pd.DataFrame(np.mean(info.iloc[:, 91:182], axis=1))\n",
    "means_3 = pd.DataFrame(np.mean(info.iloc[:, 182:194], axis=1))\n",
    "means_4 = pd.DataFrame(np.mean(info.iloc[:, 194:205], axis=1))\n",
    "means_5 = pd.DataFrame(np.mean(info.iloc[:, 205:215], axis=1))\n",
    "means_6 = info.iloc[:, 215]\n",
    "means_7 = info.iloc[:, 216]\n",
    "means_8 = info.iloc[:, 217]\n",
    "means_9 = info.iloc[:, 218]\n",
    "means_10 = info.iloc[:, 219]\n",
    "\n",
    "# concatenate the two DataFrames\n",
    "info_c = pd.concat([means_1, means_2,means_3, means_4,means_5, means_6,means_7, means_8,means_9, means_10], axis=1)\n",
    "\n",
    "#if the components are related with each other\n",
    "corr_matrix = info_c.corr()\n",
    "corr_matrix"
   ]
  },
  {
   "cell_type": "code",
   "execution_count": null,
   "id": "d1bc1d6b-8cec-4a33-83b6-3b2ae8cac433",
   "metadata": {},
   "outputs": [
    {
     "data": {
      "image/png": "[encoded data removed]",
      "text/plain": [
       "<Figure size 432x288 with 1 Axes>"
      ]
     },
     "metadata": {
      "needs_background": "light"
     },
     "output_type": "display_data"
    },
    {
     "name": "stdout",
     "output_type": "stream",
     "text": [
      "Numbers of principal components: 5\n"
     ]
    },
    {
     "data": {
      "image/png": "[encoded data removed]",
      "text/plain": [
       "<Figure size 432x288 with 2 Axes>"
      ]
     },
     "metadata": {
      "needs_background": "light"
     },
     "output_type": "display_data"
    },
    {
     "data": {
      "image/png": "[encoded data removed]",
      "text/plain": [
       "<Figure size 432x288 with 1 Axes>"
      ]
     },
     "metadata": {
      "needs_background": "light"
     },
     "output_type": "display_data"
    },
    {
     "data": {
      "image/png": "[encoded data removed]",
      "text/plain": [
       "<Figure size 432x288 with 2 Axes>"
      ]
     },
     "metadata": {
      "needs_background": "light"
     },
     "output_type": "display_data"
    }
   ],
   "source": [
    "info_m=info_c.to_numpy()\n",
    "z_info = stats.zscore(info_m)\n",
    "pca_info = PCA().fit(z_info)\n",
    "eigVals_info = pca_info.explained_variance_\n",
    "loadings_info = pca_info.components_*-1\n",
    "origData_info = pca_info.fit_transform(z_info)*-1\n",
    "\n",
    "numPredictors = 10\n",
    "plt.bar(np.linspace(1,numPredictors,numPredictors),eigVals_info)\n",
    "plt.title('Scree plot')\n",
    "plt.xlabel('Principal Components')\n",
    "plt.ylabel('Eigenvalues')\n",
    "plt.axhline(y=1, color='r', linestyle='-')\n",
    "plt.show()\n",
    "\n",
    "num_components = np.sum(eigVals_info > 1)\n",
    "print(f\"Numbers of principal components: {num_components}\")\n",
    "\n",
    "\n",
    "plt.subplot(1,3,1) # Factor 1: \n",
    "plt.bar(np.linspace(1,numPredictors,numPredictors),loadings_info[0,:]) \n",
    "plt.title('PC 1')\n",
    "#factor 1: lowest in first and fourth, manipulate\n",
    "#least likely to manipulate others-->predict art preferences\n",
    "\n",
    "plt.subplot(1,3,2) # Factor 2:\n",
    "plt.bar(np.linspace(1,numPredictors,numPredictors),loadings_info[1,:]) \n",
    "plt.title('PC 2')\n",
    "plt.show()\n",
    "#factor 2: highest in question 4 (want others to admire), lowest in 5, 6(lack remorse, unconcerned)\n",
    "#overthinking of what others think \n",
    "\n",
    "plt.subplot(1,3,3) # Factor 3:\n",
    "plt.bar(np.linspace(1,numPredictors,numPredictors),loadings_info[3,:])\n",
    "plt.title('PC 3')\n",
    "plt.show()\n",
    "\n",
    "plt.subplot(2,2,1) # Factor 4: \n",
    "plt.bar(np.linspace(1,numPredictors,numPredictors),loadings_info[4,:]) \n",
    "plt.title('PC 4')\n",
    "#factor 1: lowest in first and fourth, manipulate\n",
    "#least likely to manipulate others-->predict art preferences\n",
    "\n",
    "\n",
    "plt.subplot(2,2,2) # Factor 5:\n",
    "plt.bar(np.linspace(1,numPredictors,numPredictors),loadings_info[5,:]) \n",
    "plt.title('PC 5')\n",
    "plt.show()\n",
    "#factor 2: highest in question 4 (want others to admire), lowest in 5, 6(lack remorse, unconcerned)\n",
    "#overthinking of what others think "
   ]
  },
  {
   "cell_type": "code",
   "execution_count": 396,
   "id": "9f5a9ab9-d045-40d4-adb4-75201d5f9061",
   "metadata": {},
   "outputs": [
    {
     "name": "stdout",
     "output_type": "stream",
     "text": [
      "ROC for random forest: 0.5237166991552957 \n",
      "Accuracy for random forest: 0.5507246376811594\n"
     ]
    },
    {
     "data": {
      "image/png": "[encoded data removed]",
      "text/plain": [
       "<Figure size 432x288 with 1 Axes>"
      ]
     },
     "metadata": {
      "needs_background": "light"
     },
     "output_type": "display_data"
    },
    {
     "name": "stdout",
     "output_type": "stream",
     "text": [
      "ROC for logistic regression: 0.5432098765432098 \n",
      "Accuracy for logistic regression: 0.5797101449275363\n"
     ]
    },
    {
     "data": {
      "image/png": "[encoded data removed]",
      "text/plain": [
       "<Figure size 432x288 with 1 Axes>"
      ]
     },
     "metadata": {
      "needs_background": "light"
     },
     "output_type": "display_data"
    }
   ],
   "source": [
    "pca_info = PCA(n_components=5)\n",
    "X_info = pca_info.fit_transform(info_m)\n",
    "\n",
    "\n",
    "#cross validation for random forest and logistic regression\n",
    "info_train, info_test, poli_train, poli_test = train_test_split(X_info, politics, test_size=0.5, random_state=N_Number)\n",
    "\n",
    "#random forest\n",
    "numTrees = 100\n",
    "clf = RandomForestClassifier(n_estimators=numTrees).fit(info_train,poli_train) \n",
    "poli_forest=clf.predict(info_test)\n",
    "\n",
    "accuracy_forest = accuracy_score(poli_test,poli_forest)\n",
    "false_positive,true_positive,thresholds=roc_curve(poli_test,poli_forest)\n",
    "roc_forest=auc(false_positive,true_positive)\n",
    "\n",
    "print(\"ROC for random forest:\",roc_forest,\"\\nAccuracy for random forest:\",accuracy_forest)\n",
    "\n",
    "plt.plot(false_positive,true_positive, color='darkorange', lw=2, label='ROC curve (AUC = %0.2f)' % roc_forest)\n",
    "plt.plot([0, 1], [0, 1], color='navy', lw=2, linestyle='--')\n",
    "plt.xlim([0.0, 1.0])\n",
    "plt.ylim([0.0, 1.05])\n",
    "plt.xlabel('False Positive Rate')\n",
    "plt.ylabel('True Positive Rate')\n",
    "plt.title('ROC curve for random forest')\n",
    "plt.legend(loc=\"lower right\")\n",
    "plt.show()\n",
    "\n",
    "\n",
    "#logistic\n",
    "model = LogisticRegression(max_iter=1000)\n",
    "model.fit(info_train, poli_train)\n",
    "\n",
    "poli_lr = model.predict(info_test)\n",
    "\n",
    "#calculate accurary\n",
    "accuracy_lr = accuracy_score(poli_test,poli_lr)\n",
    "\n",
    "#calculate roc curve\n",
    "false_positive1,true_positive1,thresholds=roc_curve(poli_test,poli_lr)\n",
    "roc_lr=auc(false_positive1,true_positive1)\n",
    "print(\"ROC for logistic regression:\",roc_lr ,\"\\nAccuracy for logistic regression:\",accuracy_lr)\n",
    "\n",
    "#plot the roc curve\n",
    "plt.plot(false_positive1,true_positive1, color='darkorange', lw=2, label='ROC curve (AUC = %0.2f)' % roc_lr)\n",
    "plt.plot([0, 1], [0, 1], color='navy', lw=2, linestyle='--')\n",
    "plt.xlabel('False Positive Rate')\n",
    "plt.ylabel('True Positive Rate')\n",
    "plt.title('ROC curve for logistic regression')\n",
    "plt.legend(loc=\"lower right\")\n",
    "plt.show()\n"
   ]
  }
 ],
 "metadata": {
  "kernelspec": {
   "display_name": "anaconda-2022.05-py39",
   "language": "python",
   "name": "conda-env-anaconda-2022.05-py39-py"
  },
  "language_info": {
   "codemirror_mode": {
    "name": "ipython",
    "version": 3
   },
   "file_extension": ".py",
   "mimetype": "text/x-python",
   "name": "python",
   "nbconvert_exporter": "python",
   "pygments_lexer": "ipython3",
   "version": "3.9.12"
  }
 },
 "nbformat": 4,
 "nbformat_minor": 5
}
